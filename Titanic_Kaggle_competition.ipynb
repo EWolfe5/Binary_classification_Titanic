{
  "nbformat": 4,
  "nbformat_minor": 0,
  "metadata": {
    "colab": {
      "provenance": [],
      "collapsed_sections": [
        "Pb0k1loTD1Ja",
        "TcnjqtY5RvIe",
        "YU8I55ZJiWMx",
        "jk2Cf7oCxA5v"
      ]
    },
    "kernelspec": {
      "name": "python3",
      "display_name": "Python 3"
    },
    "language_info": {
      "name": "python"
    }
  },
  "cells": [
    {
      "cell_type": "markdown",
      "source": [
        "### Imports"
      ],
      "metadata": {
        "id": "Pb0k1loTD1Ja"
      }
    },
    {
      "cell_type": "code",
      "execution_count": 1,
      "metadata": {
        "id": "U374qiu40K_7"
      },
      "outputs": [],
      "source": [
        "import numpy as np\n",
        "import pandas as pd\n",
        "import matplotlib.pyplot as plt\n",
        "import seaborn as sns\n",
        "import matplotlib as mpl\n",
        "\n",
        "mpl.rcParams['figure.figsize'] = (10, 8)\n",
        "\n",
        "datadir = '/content/drive/MyDrive/Kaggle/data/'"
      ]
    },
    {
      "cell_type": "code",
      "source": [
        "from google.colab import drive\n",
        "drive.mount('/content/drive')"
      ],
      "metadata": {
        "colab": {
          "base_uri": "https://localhost:8080/"
        },
        "id": "3GvLzXSM0OSQ",
        "outputId": "22cd7205-4193-4fa0-f636-7d3eaf419d59"
      },
      "execution_count": 2,
      "outputs": [
        {
          "output_type": "stream",
          "name": "stdout",
          "text": [
            "Drive already mounted at /content/drive; to attempt to forcibly remount, call drive.mount(\"/content/drive\", force_remount=True).\n"
          ]
        }
      ]
    },
    {
      "cell_type": "markdown",
      "source": [
        "### **Data Dictionary**\n",
        "* `Survived` : Survival, 0 = No, 1 = Yes\n",
        "\n",
        "* `Pclass` : Ticket class, 1 = 1st, 2 = 2nd, 3 = 3rd\n",
        "\n",
        "* `Sex` : Sex\n",
        "\n",
        "* `Age:` Age in years\n",
        "\n",
        "* `SibSp`: Number of siblings / spouses aboard the Titanic\n",
        "\n",
        "* `Parch`: Number of parents / children aboard the Titanic\n",
        "\n",
        "* `Ticket`: Ticket number\n",
        "\n",
        "* `Fare`: Passenger fare\n",
        "\n",
        "* `Cabin`: Cabin number\n",
        "\n",
        "* `Embarked`: Part of Embarkation, C = Cherbourg, Q = Queenstown, S = Southampton\n",
        "\n",
        "# **Variable Notes**\n",
        "* `Pclass`: A proxy for socio-economic status (SES) 1st = Upper 2nd = Middle 3rd = Lower\n",
        "\n",
        "* `Age`: Age is fractional if less than 1. If the age is estimated, is it in the form of xx.5\n",
        "\n",
        "* `SibSp`: The number of siblings/spouses\n",
        "\n",
        "* `Parch`: The number of parents/children\n",
        "\n",
        "Some children travelled only with a nanny, therefore parch=0 for them."
      ],
      "metadata": {
        "id": "3HLltDTn2KDt"
      }
    },
    {
      "cell_type": "markdown",
      "source": [
        "### EDA\n",
        "___\n",
        "We'll start off by exploring the dataset to get familiar with the format of the entries and we can seek any missing values and try to determine some possible ways to deal with those missing values. We then further explore the data to try to find some meaningful features that already exist and we can determine if can create extra features from existing ones."
      ],
      "metadata": {
        "id": "GASPlXgwaOgQ"
      }
    },
    {
      "cell_type": "code",
      "source": [
        "train = pd.read_csv(datadir + 'train.csv')"
      ],
      "metadata": {
        "id": "3YocG8880ZgW"
      },
      "execution_count": 3,
      "outputs": []
    },
    {
      "cell_type": "code",
      "source": [
        "train.isnull().sum(axis=0) # missing entries"
      ],
      "metadata": {
        "colab": {
          "base_uri": "https://localhost:8080/"
        },
        "id": "Twtny-9h0puw",
        "outputId": "e6d60855-dc72-42dc-df9b-b41adbcc0ebf"
      },
      "execution_count": 4,
      "outputs": [
        {
          "output_type": "execute_result",
          "data": {
            "text/plain": [
              "PassengerId      0\n",
              "Survived         0\n",
              "Pclass           0\n",
              "Name             0\n",
              "Sex              0\n",
              "Age            177\n",
              "SibSp            0\n",
              "Parch            0\n",
              "Ticket           0\n",
              "Fare             0\n",
              "Cabin          687\n",
              "Embarked         2\n",
              "dtype: int64"
            ]
          },
          "metadata": {},
          "execution_count": 4
        }
      ]
    },
    {
      "cell_type": "code",
      "source": [
        "np.round(train.isnull().sum(axis=0) / len(train) * 100, 2) # percentage missing"
      ],
      "metadata": {
        "colab": {
          "base_uri": "https://localhost:8080/"
        },
        "id": "8CT3CmQK1BD2",
        "outputId": "de3cd417-914d-4c86-fe88-abdb120e1908"
      },
      "execution_count": 5,
      "outputs": [
        {
          "output_type": "execute_result",
          "data": {
            "text/plain": [
              "PassengerId     0.00\n",
              "Survived        0.00\n",
              "Pclass          0.00\n",
              "Name            0.00\n",
              "Sex             0.00\n",
              "Age            19.87\n",
              "SibSp           0.00\n",
              "Parch           0.00\n",
              "Ticket          0.00\n",
              "Fare            0.00\n",
              "Cabin          77.10\n",
              "Embarked        0.22\n",
              "dtype: float64"
            ]
          },
          "metadata": {},
          "execution_count": 5
        }
      ]
    },
    {
      "cell_type": "markdown",
      "source": [
        "Preliminary findings:\n",
        "\n",
        "* The cabin feature has 77% of entries missing, it might just be worth it to drop the entire feature.\n",
        "* Age has about 20% or 177 missing entries. We can impute the missing values by either the mean, median or random sampling with the features mean and std.\n",
        "* One possible way that we can use Age would be to scale it (i.e. Z-score or min-max)\n",
        "* There are 2 entries missing in embarked. We can either drop those 2 entries, randomly assigned via sampling, or we can inpute it with most common value."
      ],
      "metadata": {
        "id": "DxJq40PB05MI"
      }
    },
    {
      "cell_type": "code",
      "source": [
        "train.sort_values(by='Ticket').head(5)"
      ],
      "metadata": {
        "colab": {
          "base_uri": "https://localhost:8080/",
          "height": 206
        },
        "id": "BMZQPUN3AUje",
        "outputId": "4c1162bf-c86c-4571-f1be-851a92195580"
      },
      "execution_count": 6,
      "outputs": [
        {
          "output_type": "execute_result",
          "data": {
            "text/plain": [
              "     PassengerId  Survived  Pclass  \\\n",
              "504          505         1       1   \n",
              "257          258         1       1   \n",
              "759          760         1       1   \n",
              "262          263         0       1   \n",
              "558          559         1       1   \n",
              "\n",
              "                                                  Name     Sex   Age  SibSp  \\\n",
              "504                              Maioni, Miss. Roberta  female  16.0      0   \n",
              "257                               Cherry, Miss. Gladys  female  30.0      0   \n",
              "759  Rothes, the Countess. of (Lucy Noel Martha Dye...  female  33.0      0   \n",
              "262                                  Taussig, Mr. Emil    male  52.0      1   \n",
              "558             Taussig, Mrs. Emil (Tillie Mandelbaum)  female  39.0      1   \n",
              "\n",
              "     Parch  Ticket   Fare Cabin Embarked  \n",
              "504      0  110152  86.50   B79        S  \n",
              "257      0  110152  86.50   B77        S  \n",
              "759      0  110152  86.50   B77        S  \n",
              "262      1  110413  79.65   E67        S  \n",
              "558      1  110413  79.65   E67        S  "
            ],
            "text/html": [
              "\n",
              "  <div id=\"df-9f521285-b0d5-420a-8960-876235d42bc5\">\n",
              "    <div class=\"colab-df-container\">\n",
              "      <div>\n",
              "<style scoped>\n",
              "    .dataframe tbody tr th:only-of-type {\n",
              "        vertical-align: middle;\n",
              "    }\n",
              "\n",
              "    .dataframe tbody tr th {\n",
              "        vertical-align: top;\n",
              "    }\n",
              "\n",
              "    .dataframe thead th {\n",
              "        text-align: right;\n",
              "    }\n",
              "</style>\n",
              "<table border=\"1\" class=\"dataframe\">\n",
              "  <thead>\n",
              "    <tr style=\"text-align: right;\">\n",
              "      <th></th>\n",
              "      <th>PassengerId</th>\n",
              "      <th>Survived</th>\n",
              "      <th>Pclass</th>\n",
              "      <th>Name</th>\n",
              "      <th>Sex</th>\n",
              "      <th>Age</th>\n",
              "      <th>SibSp</th>\n",
              "      <th>Parch</th>\n",
              "      <th>Ticket</th>\n",
              "      <th>Fare</th>\n",
              "      <th>Cabin</th>\n",
              "      <th>Embarked</th>\n",
              "    </tr>\n",
              "  </thead>\n",
              "  <tbody>\n",
              "    <tr>\n",
              "      <th>504</th>\n",
              "      <td>505</td>\n",
              "      <td>1</td>\n",
              "      <td>1</td>\n",
              "      <td>Maioni, Miss. Roberta</td>\n",
              "      <td>female</td>\n",
              "      <td>16.0</td>\n",
              "      <td>0</td>\n",
              "      <td>0</td>\n",
              "      <td>110152</td>\n",
              "      <td>86.50</td>\n",
              "      <td>B79</td>\n",
              "      <td>S</td>\n",
              "    </tr>\n",
              "    <tr>\n",
              "      <th>257</th>\n",
              "      <td>258</td>\n",
              "      <td>1</td>\n",
              "      <td>1</td>\n",
              "      <td>Cherry, Miss. Gladys</td>\n",
              "      <td>female</td>\n",
              "      <td>30.0</td>\n",
              "      <td>0</td>\n",
              "      <td>0</td>\n",
              "      <td>110152</td>\n",
              "      <td>86.50</td>\n",
              "      <td>B77</td>\n",
              "      <td>S</td>\n",
              "    </tr>\n",
              "    <tr>\n",
              "      <th>759</th>\n",
              "      <td>760</td>\n",
              "      <td>1</td>\n",
              "      <td>1</td>\n",
              "      <td>Rothes, the Countess. of (Lucy Noel Martha Dye...</td>\n",
              "      <td>female</td>\n",
              "      <td>33.0</td>\n",
              "      <td>0</td>\n",
              "      <td>0</td>\n",
              "      <td>110152</td>\n",
              "      <td>86.50</td>\n",
              "      <td>B77</td>\n",
              "      <td>S</td>\n",
              "    </tr>\n",
              "    <tr>\n",
              "      <th>262</th>\n",
              "      <td>263</td>\n",
              "      <td>0</td>\n",
              "      <td>1</td>\n",
              "      <td>Taussig, Mr. Emil</td>\n",
              "      <td>male</td>\n",
              "      <td>52.0</td>\n",
              "      <td>1</td>\n",
              "      <td>1</td>\n",
              "      <td>110413</td>\n",
              "      <td>79.65</td>\n",
              "      <td>E67</td>\n",
              "      <td>S</td>\n",
              "    </tr>\n",
              "    <tr>\n",
              "      <th>558</th>\n",
              "      <td>559</td>\n",
              "      <td>1</td>\n",
              "      <td>1</td>\n",
              "      <td>Taussig, Mrs. Emil (Tillie Mandelbaum)</td>\n",
              "      <td>female</td>\n",
              "      <td>39.0</td>\n",
              "      <td>1</td>\n",
              "      <td>1</td>\n",
              "      <td>110413</td>\n",
              "      <td>79.65</td>\n",
              "      <td>E67</td>\n",
              "      <td>S</td>\n",
              "    </tr>\n",
              "  </tbody>\n",
              "</table>\n",
              "</div>\n",
              "      <button class=\"colab-df-convert\" onclick=\"convertToInteractive('df-9f521285-b0d5-420a-8960-876235d42bc5')\"\n",
              "              title=\"Convert this dataframe to an interactive table.\"\n",
              "              style=\"display:none;\">\n",
              "        \n",
              "  <svg xmlns=\"http://www.w3.org/2000/svg\" height=\"24px\"viewBox=\"0 0 24 24\"\n",
              "       width=\"24px\">\n",
              "    <path d=\"M0 0h24v24H0V0z\" fill=\"none\"/>\n",
              "    <path d=\"M18.56 5.44l.94 2.06.94-2.06 2.06-.94-2.06-.94-.94-2.06-.94 2.06-2.06.94zm-11 1L8.5 8.5l.94-2.06 2.06-.94-2.06-.94L8.5 2.5l-.94 2.06-2.06.94zm10 10l.94 2.06.94-2.06 2.06-.94-2.06-.94-.94-2.06-.94 2.06-2.06.94z\"/><path d=\"M17.41 7.96l-1.37-1.37c-.4-.4-.92-.59-1.43-.59-.52 0-1.04.2-1.43.59L10.3 9.45l-7.72 7.72c-.78.78-.78 2.05 0 2.83L4 21.41c.39.39.9.59 1.41.59.51 0 1.02-.2 1.41-.59l7.78-7.78 2.81-2.81c.8-.78.8-2.07 0-2.86zM5.41 20L4 18.59l7.72-7.72 1.47 1.35L5.41 20z\"/>\n",
              "  </svg>\n",
              "      </button>\n",
              "      \n",
              "  <style>\n",
              "    .colab-df-container {\n",
              "      display:flex;\n",
              "      flex-wrap:wrap;\n",
              "      gap: 12px;\n",
              "    }\n",
              "\n",
              "    .colab-df-convert {\n",
              "      background-color: #E8F0FE;\n",
              "      border: none;\n",
              "      border-radius: 50%;\n",
              "      cursor: pointer;\n",
              "      display: none;\n",
              "      fill: #1967D2;\n",
              "      height: 32px;\n",
              "      padding: 0 0 0 0;\n",
              "      width: 32px;\n",
              "    }\n",
              "\n",
              "    .colab-df-convert:hover {\n",
              "      background-color: #E2EBFA;\n",
              "      box-shadow: 0px 1px 2px rgba(60, 64, 67, 0.3), 0px 1px 3px 1px rgba(60, 64, 67, 0.15);\n",
              "      fill: #174EA6;\n",
              "    }\n",
              "\n",
              "    [theme=dark] .colab-df-convert {\n",
              "      background-color: #3B4455;\n",
              "      fill: #D2E3FC;\n",
              "    }\n",
              "\n",
              "    [theme=dark] .colab-df-convert:hover {\n",
              "      background-color: #434B5C;\n",
              "      box-shadow: 0px 1px 3px 1px rgba(0, 0, 0, 0.15);\n",
              "      filter: drop-shadow(0px 1px 2px rgba(0, 0, 0, 0.3));\n",
              "      fill: #FFFFFF;\n",
              "    }\n",
              "  </style>\n",
              "\n",
              "      <script>\n",
              "        const buttonEl =\n",
              "          document.querySelector('#df-9f521285-b0d5-420a-8960-876235d42bc5 button.colab-df-convert');\n",
              "        buttonEl.style.display =\n",
              "          google.colab.kernel.accessAllowed ? 'block' : 'none';\n",
              "\n",
              "        async function convertToInteractive(key) {\n",
              "          const element = document.querySelector('#df-9f521285-b0d5-420a-8960-876235d42bc5');\n",
              "          const dataTable =\n",
              "            await google.colab.kernel.invokeFunction('convertToInteractive',\n",
              "                                                     [key], {});\n",
              "          if (!dataTable) return;\n",
              "\n",
              "          const docLinkHtml = 'Like what you see? Visit the ' +\n",
              "            '<a target=\"_blank\" href=https://colab.research.google.com/notebooks/data_table.ipynb>data table notebook</a>'\n",
              "            + ' to learn more about interactive tables.';\n",
              "          element.innerHTML = '';\n",
              "          dataTable['output_type'] = 'display_data';\n",
              "          await google.colab.output.renderOutput(dataTable, element);\n",
              "          const docLink = document.createElement('div');\n",
              "          docLink.innerHTML = docLinkHtml;\n",
              "          element.appendChild(docLink);\n",
              "        }\n",
              "      </script>\n",
              "    </div>\n",
              "  </div>\n",
              "  "
            ]
          },
          "metadata": {},
          "execution_count": 6
        }
      ]
    },
    {
      "cell_type": "markdown",
      "source": [
        "Let's now take a look at the reletionship between some of the features and our target `Survived`."
      ],
      "metadata": {
        "id": "9bUK6TpWHUc1"
      }
    },
    {
      "cell_type": "code",
      "source": [
        "by_gender = train[['Sex', 'Survived']].groupby('Sex', as_index=False).agg(np.mean)\n",
        "sns.barplot(data=by_gender, x='Sex', y='Survived');"
      ],
      "metadata": {
        "colab": {
          "base_uri": "https://localhost:8080/",
          "height": 497
        },
        "id": "OvLcxiVvHkxl",
        "outputId": "95a24a03-8261-4cdb-b531-c3141b6fe26b"
      },
      "execution_count": 7,
      "outputs": [
        {
          "output_type": "display_data",
          "data": {
            "text/plain": [
              "<Figure size 720x576 with 1 Axes>"
            ],
            "image/png": "[encoded data removed]"
          },
          "metadata": {
            "needs_background": "light"
          }
        }
      ]
    },
    {
      "cell_type": "markdown",
      "source": [
        "It seems that a higher proportion of females survived compared to males."
      ],
      "metadata": {
        "id": "GLSNOZD1I8ii"
      }
    },
    {
      "cell_type": "code",
      "source": [
        "def age_bin(age):\n",
        "  if age < 12:\n",
        "    return 1\n",
        "  if age >= 12 and age < 18:\n",
        "    return 2\n",
        "  if age >= 18 and age < 25:\n",
        "    return 3\n",
        "  if age >= 25 and age < 50:\n",
        "    return 4\n",
        "  if age >= 50 and age < 60:\n",
        "    return 5\n",
        "\n",
        "  return 6"
      ],
      "metadata": {
        "id": "arS1H3fhKqQ2"
      },
      "execution_count": 8,
      "outputs": []
    },
    {
      "cell_type": "code",
      "source": [
        "binned_age = train.Age.apply(age_bin)\n",
        "sns.barplot(x=binned_age, y=train['Survived']);"
      ],
      "metadata": {
        "colab": {
          "base_uri": "https://localhost:8080/",
          "height": 497
        },
        "id": "V10CJD72La6y",
        "outputId": "6146b2a2-0b5c-4870-8665-75618e8985b2"
      },
      "execution_count": 9,
      "outputs": [
        {
          "output_type": "display_data",
          "data": {
            "text/plain": [
              "<Figure size 720x576 with 1 Axes>"
            ],
            "image/png": "[encoded data removed]"
          },
          "metadata": {
            "needs_background": "light"
          }
        }
      ]
    },
    {
      "cell_type": "markdown",
      "source": [
        "Based on how we binned age, it is clear that age was an important factor for survival, specially for passengers younger that 12 years old."
      ],
      "metadata": {
        "id": "fXR-0MPZMIGH"
      }
    },
    {
      "cell_type": "code",
      "source": [
        "sns.barplot(data=train, x='Embarked', y='Survived');"
      ],
      "metadata": {
        "colab": {
          "base_uri": "https://localhost:8080/",
          "height": 497
        },
        "id": "rqXPvrXFJGI2",
        "outputId": "11ba2f05-0e3d-48f9-9a8c-abf5ff468ba0"
      },
      "execution_count": 10,
      "outputs": [
        {
          "output_type": "display_data",
          "data": {
            "text/plain": [
              "<Figure size 720x576 with 1 Axes>"
            ],
            "image/png": "[encoded data removed]"
          },
          "metadata": {
            "needs_background": "light"
          }
        }
      ]
    },
    {
      "cell_type": "markdown",
      "source": [
        "From the plot we can infer that most survivors boarded the Titanic from Cherbourg."
      ],
      "metadata": {
        "id": "hWC6kaKLJ-VX"
      }
    },
    {
      "cell_type": "code",
      "source": [
        "sns.barplot(data=train, x='Pclass', y='Survived');"
      ],
      "metadata": {
        "colab": {
          "base_uri": "https://localhost:8080/",
          "height": 497
        },
        "id": "1MWvcG0NKPf6",
        "outputId": "e050ee6f-b87c-44a7-f62d-3176999fbf5f"
      },
      "execution_count": 11,
      "outputs": [
        {
          "output_type": "display_data",
          "data": {
            "text/plain": [
              "<Figure size 720x576 with 1 Axes>"
            ],
            "image/png": "[encoded data removed]"
          },
          "metadata": {
            "needs_background": "light"
          }
        }
      ]
    },
    {
      "cell_type": "markdown",
      "source": [
        "First class passengers had a higher rate of survival."
      ],
      "metadata": {
        "id": "juFNWctqKheS"
      }
    },
    {
      "cell_type": "markdown",
      "source": [
        "### Data Preprocesing 2\n",
        "___"
      ],
      "metadata": {
        "id": "TcnjqtY5RvIe"
      }
    },
    {
      "cell_type": "code",
      "source": [
        "train = pd.read_csv(datadir + 'train.csv', index_col=0)\n",
        "test = pd.read_csv(datadir + 'test.csv', index_col=0)"
      ],
      "metadata": {
        "id": "YVt7y1u9Rwov"
      },
      "execution_count": 12,
      "outputs": []
    },
    {
      "cell_type": "markdown",
      "source": [
        "**Sex** turn into binary"
      ],
      "metadata": {
        "id": "nR_BvcYFSmIO"
      }
    },
    {
      "cell_type": "code",
      "source": [
        "train['Sex'] = train.Sex.replace({'male': 0, 'female':1})\n",
        "test['Sex'] = test.Sex.replace({'male': 0, 'female':1})"
      ],
      "metadata": {
        "id": "shCELQ8ySkkj"
      },
      "execution_count": 13,
      "outputs": []
    },
    {
      "cell_type": "markdown",
      "source": [
        "**Embarked** - convert to numeric values After inputting missing values in training set. We will OHE."
      ],
      "metadata": {
        "id": "nFtIvwHqTPBU"
      }
    },
    {
      "cell_type": "code",
      "source": [
        "most_common = train.groupby('Embarked').count().sort_values('Survived', ascending=False).index.to_numpy()[0]\n",
        "train['Embarked'] = train['Embarked'].fillna(most_common)"
      ],
      "metadata": {
        "id": "K3Vti25nT3Es"
      },
      "execution_count": 14,
      "outputs": []
    },
    {
      "cell_type": "markdown",
      "source": [
        "**Name** - Extract Titles, then we'll turn into numeric using OHE."
      ],
      "metadata": {
        "id": "-udUQDGlUMks"
      }
    },
    {
      "cell_type": "code",
      "source": [
        "train.Name.str.extract(' ([A-Za-z]+)\\.', expand=False).unique()"
      ],
      "metadata": {
        "colab": {
          "base_uri": "https://localhost:8080/"
        },
        "id": "wgvO3rFoVcTF",
        "outputId": "bc4a6ba5-e760-413f-b134-ec7e67f9924c"
      },
      "execution_count": 15,
      "outputs": [
        {
          "output_type": "execute_result",
          "data": {
            "text/plain": [
              "array(['Mr', 'Mrs', 'Miss', 'Master', 'Don', 'Rev', 'Dr', 'Mme', 'Ms',\n",
              "       'Major', 'Lady', 'Sir', 'Mlle', 'Col', 'Capt', 'Countess',\n",
              "       'Jonkheer'], dtype=object)"
            ]
          },
          "metadata": {},
          "execution_count": 15
        }
      ]
    },
    {
      "cell_type": "code",
      "source": [
        "test.Name.str.extract(' ([A-Za-z]+)\\.', expand=False).unique()"
      ],
      "metadata": {
        "colab": {
          "base_uri": "https://localhost:8080/"
        },
        "id": "Tl9SVsbYWTxL",
        "outputId": "2c37fdea-71f7-4cb5-bc16-38fb2be62a71"
      },
      "execution_count": 16,
      "outputs": [
        {
          "output_type": "execute_result",
          "data": {
            "text/plain": [
              "array(['Mr', 'Mrs', 'Miss', 'Master', 'Ms', 'Col', 'Rev', 'Dr', 'Dona'],\n",
              "      dtype=object)"
            ]
          },
          "metadata": {},
          "execution_count": 16
        }
      ]
    },
    {
      "cell_type": "code",
      "source": [
        "desired_titles = np.array(['Mr', 'Mrs', 'Miss']) # Cap >> Col >> Major in military rankings"
      ],
      "metadata": {
        "id": "Q4t869L3UWVo"
      },
      "execution_count": 17,
      "outputs": []
    },
    {
      "cell_type": "code",
      "source": [
        "train['Title'] = train.Name.str.extract(' ([A-Za-z]+)\\.', expand=False)\n",
        "train['Title'] = train.Title.replace('Ms', 'Miss').replace('Mme', 'Mrs').replace('Mlle', 'Miss')\n",
        "unique_titles = train.Title.unique()\n",
        "train['Title'] = train.Title.replace(unique_titles[[title not in desired_titles for title in unique_titles]], 'Other')\n",
        "\n",
        "# there are less titles to replace on the test set\n",
        "test['Title'] = test.Name.str.extract(' ([A-Za-z]+)\\.', expand=False).replace('Ms', 'Miss')\n",
        "unique_titles = test.Title.unique()\n",
        "test['Title'] = test.Title.replace(unique_titles[[title not in desired_titles for title in unique_titles]], 'Other')"
      ],
      "metadata": {
        "id": "8cI_8o6jWReA"
      },
      "execution_count": 18,
      "outputs": []
    },
    {
      "cell_type": "markdown",
      "source": [
        "**SIBPS & PARCH** - create new feature `Party_Size`."
      ],
      "metadata": {
        "id": "I3hVawlkYq_o"
      }
    },
    {
      "cell_type": "code",
      "source": [
        "train['Party_Size'] = train['SibSp'] + train['Parch'] + 1\n",
        "test['Party_Size'] = test['SibSp'] + test['Parch'] + 1"
      ],
      "metadata": {
        "id": "BN1obehFZFim"
      },
      "execution_count": 19,
      "outputs": []
    },
    {
      "cell_type": "markdown",
      "source": [
        "**Age** - There are missing values for both training and testing datasets. Let's inpute by drawing from a normal distribution with the same mean and std, this way, we can hopefully get a better representaion of the sampling distribution. We will then place into age groups."
      ],
      "metadata": {
        "id": "V6xR0nLyZZxW"
      }
    },
    {
      "cell_type": "code",
      "source": [
        "missing_age_train = train.Age.isna()\n",
        "missing_age_test = test.Age.isna()"
      ],
      "metadata": {
        "id": "Jjf7qMINZf6j"
      },
      "execution_count": 20,
      "outputs": []
    },
    {
      "cell_type": "code",
      "source": [
        "μtrain = train.Age.mean()\n",
        "σtrain = train.Age.std()\n",
        "\n",
        "μtest = test.Age.mean()\n",
        "σtest = test.Age.std()"
      ],
      "metadata": {
        "id": "vyRS48CPaiLk"
      },
      "execution_count": 21,
      "outputs": []
    },
    {
      "cell_type": "code",
      "source": [
        "np.random.seed(43)\n",
        "# We place a random seed to ensure reproducibility\n",
        "\n",
        "train['Age'][missing_age_train] = np.random.normal(μtrain, σtrain, missing_age_train.sum())\n",
        "test['Age'][missing_age_test] = np.random.normal(μtest, σtest, missing_age_test.sum())"
      ],
      "metadata": {
        "id": "uDdayxtYbCjB",
        "colab": {
          "base_uri": "https://localhost:8080/"
        },
        "outputId": "fb6d66d5-b5cd-4e84-d8ab-8b14a313aa7c"
      },
      "execution_count": 22,
      "outputs": [
        {
          "output_type": "stream",
          "name": "stderr",
          "text": [
            "/usr/local/lib/python3.7/dist-packages/ipykernel_launcher.py:4: SettingWithCopyWarning: \n",
            "A value is trying to be set on a copy of a slice from a DataFrame\n",
            "\n",
            "See the caveats in the documentation: https://pandas.pydata.org/pandas-docs/stable/user_guide/indexing.html#returning-a-view-versus-a-copy\n",
            "  after removing the cwd from sys.path.\n",
            "/usr/local/lib/python3.7/dist-packages/ipykernel_launcher.py:5: SettingWithCopyWarning: \n",
            "A value is trying to be set on a copy of a slice from a DataFrame\n",
            "\n",
            "See the caveats in the documentation: https://pandas.pydata.org/pandas-docs/stable/user_guide/indexing.html#returning-a-view-versus-a-copy\n",
            "  \"\"\"\n"
          ]
        }
      ]
    },
    {
      "cell_type": "code",
      "source": [
        "print('No missing Values!' if train.Age.isna().sum() == test.Age.isna().sum() == 0 else 'There are still missing values...')"
      ],
      "metadata": {
        "colab": {
          "base_uri": "https://localhost:8080/"
        },
        "id": "XIVfFgQBZlZa",
        "outputId": "26f7b0d4-3e38-4b56-d771-48e137b6d29d"
      },
      "execution_count": 23,
      "outputs": [
        {
          "output_type": "stream",
          "name": "stdout",
          "text": [
            "No missing Values!\n"
          ]
        }
      ]
    },
    {
      "cell_type": "markdown",
      "source": [
        "We now split into age groups. For this we'll split into as little as possible to avoid overfitting. The categories are as follows:\n",
        "* Age < 12 child, `bin 1`\n",
        "* 12 ≤ Age < 18 teenager, `bin 2`\n",
        "* 18 ≤ Age < 25 Young Adult, `bin 3`\n",
        "* 25 ≤ Age < 50 Adult, `bin 4`\n",
        "* 50 ≤ Age < 65 Middle Aged, `bin 5`\n",
        "* Age ≥ 65 senior citizen, `bin 6`"
      ],
      "metadata": {
        "id": "ZwxDcvqNeA-m"
      }
    },
    {
      "cell_type": "code",
      "source": [
        "def age_bin(age):\n",
        "  if age < 12:\n",
        "    return 1\n",
        "  if age >= 12 and age < 18:\n",
        "    return 2\n",
        "  if age >= 18 and age < 25:\n",
        "    return 3\n",
        "  if age >= 25 and age < 50:\n",
        "    return 4\n",
        "  if age >= 50 and age < 60:\n",
        "    return 5\n",
        "\n",
        "  return 6"
      ],
      "metadata": {
        "id": "tU3VW20ddBkp"
      },
      "execution_count": 24,
      "outputs": []
    },
    {
      "cell_type": "code",
      "source": [
        "train['Age'] = train.Age.apply(age_bin)\n",
        "test['Age'] = test.Age.apply(age_bin)"
      ],
      "metadata": {
        "id": "bno50pm4fwLL"
      },
      "execution_count": 25,
      "outputs": []
    },
    {
      "cell_type": "markdown",
      "source": [
        "**Fare** - There's one missing value in the test set, we will impute with the global mean."
      ],
      "metadata": {
        "id": "p9GHX2FKgUzS"
      }
    },
    {
      "cell_type": "code",
      "source": [
        "global_mean = (train.Fare.mean() + test.Fare.mean()) / 2\n",
        "test['Fare'] = test.Fare.fillna(global_mean)"
      ],
      "metadata": {
        "id": "B05iI_abgZ44"
      },
      "execution_count": 26,
      "outputs": []
    },
    {
      "cell_type": "markdown",
      "source": [
        "**Final Clean Up** - At this point we will get rid of all the columns we've already used to make new numerical features such as `Name`, `SibSp` and `Parch`. We also drop features we will not use (`Ticket`, `Cabin`). We will finish by OHE `Title` and `Embarked`."
      ],
      "metadata": {
        "id": "oEqJtLBvi5wX"
      }
    },
    {
      "cell_type": "code",
      "source": [
        "train = train.drop(columns=['Name', 'SibSp', 'Parch', 'Ticket', 'Cabin'])\n",
        "test = test.drop(columns=['Name', 'SibSp', 'Parch', 'Ticket', 'Cabin'])"
      ],
      "metadata": {
        "id": "7T6DOFfSj_QI"
      },
      "execution_count": 27,
      "outputs": []
    },
    {
      "cell_type": "code",
      "source": [
        "from sklearn.feature_extraction import DictVectorizer\n",
        "\n",
        "vec = DictVectorizer()\n",
        "categories = ['Title', 'Embarked']\n",
        "train_features = train[categories]\n",
        "test_features = test[categories]"
      ],
      "metadata": {
        "id": "tGNQirILki2m"
      },
      "execution_count": 28,
      "outputs": []
    },
    {
      "cell_type": "code",
      "source": [
        "# Performing OHE\n",
        "train[vec.get_feature_names_out()] = vec.fit_transform(train_features.to_dict('records')).toarray()\n",
        "test[vec.get_feature_names_out()] = vec.transform(test_features.to_dict('records')).toarray()"
      ],
      "metadata": {
        "id": "E9DvLuOsnbap"
      },
      "execution_count": 29,
      "outputs": []
    },
    {
      "cell_type": "code",
      "source": [
        "# we now drop those categories since they are OHE\n",
        "train = train.drop(columns=categories)\n",
        "test = test.drop(columns=categories)"
      ],
      "metadata": {
        "id": "l2FvbOiTpt-S"
      },
      "execution_count": 30,
      "outputs": []
    },
    {
      "cell_type": "markdown",
      "source": [
        "**Let's take a look at our final dataset.** \n",
        "\n",
        "No more categorical values, only numerical and we've now handled all of the missing values."
      ],
      "metadata": {
        "id": "Nh4EW_urqgI3"
      }
    },
    {
      "cell_type": "code",
      "source": [
        "train.isna().sum()"
      ],
      "metadata": {
        "colab": {
          "base_uri": "https://localhost:8080/"
        },
        "id": "dXWXCFSYqyHs",
        "outputId": "319e6688-6dc5-4fb9-ecef-29e5d508553f"
      },
      "execution_count": 31,
      "outputs": [
        {
          "output_type": "execute_result",
          "data": {
            "text/plain": [
              "Survived       0\n",
              "Pclass         0\n",
              "Sex            0\n",
              "Age            0\n",
              "Fare           0\n",
              "Party_Size     0\n",
              "Embarked=C     0\n",
              "Embarked=Q     0\n",
              "Embarked=S     0\n",
              "Title=Miss     0\n",
              "Title=Mr       0\n",
              "Title=Mrs      0\n",
              "Title=Other    0\n",
              "dtype: int64"
            ]
          },
          "metadata": {},
          "execution_count": 31
        }
      ]
    },
    {
      "cell_type": "code",
      "source": [
        "test.isna().sum()"
      ],
      "metadata": {
        "colab": {
          "base_uri": "https://localhost:8080/"
        },
        "id": "YYcskrKJq4eu",
        "outputId": "fc997699-722c-44df-bb52-8d54fd2e17be"
      },
      "execution_count": 32,
      "outputs": [
        {
          "output_type": "execute_result",
          "data": {
            "text/plain": [
              "Pclass         0\n",
              "Sex            0\n",
              "Age            0\n",
              "Fare           0\n",
              "Party_Size     0\n",
              "Embarked=C     0\n",
              "Embarked=Q     0\n",
              "Embarked=S     0\n",
              "Title=Miss     0\n",
              "Title=Mr       0\n",
              "Title=Mrs      0\n",
              "Title=Other    0\n",
              "dtype: int64"
            ]
          },
          "metadata": {},
          "execution_count": 32
        }
      ]
    },
    {
      "cell_type": "markdown",
      "source": [
        "### Final dataset\n",
        "___\n",
        "For now we will drop the `cabin` feature and clean up the table from the rest of the features we didn't use."
      ],
      "metadata": {
        "id": "QeHl2YCXyF3w"
      }
    },
    {
      "cell_type": "code",
      "source": [
        "# our final table\n",
        "train.head()"
      ],
      "metadata": {
        "id": "ruDaqhL6bv7U",
        "colab": {
          "base_uri": "https://localhost:8080/",
          "height": 237
        },
        "outputId": "0f6ba4c5-3c91-4b11-a641-7db265355e18"
      },
      "execution_count": 33,
      "outputs": [
        {
          "output_type": "execute_result",
          "data": {
            "text/plain": [
              "             Survived  Pclass  Sex  Age     Fare  Party_Size  Embarked=C  \\\n",
              "PassengerId                                                                \n",
              "1                   0       3    0    3   7.2500           2         0.0   \n",
              "2                   1       1    1    4  71.2833           2         1.0   \n",
              "3                   1       3    1    4   7.9250           1         0.0   \n",
              "4                   1       1    1    4  53.1000           2         0.0   \n",
              "5                   0       3    0    4   8.0500           1         0.0   \n",
              "\n",
              "             Embarked=Q  Embarked=S  Title=Miss  Title=Mr  Title=Mrs  \\\n",
              "PassengerId                                                            \n",
              "1                   0.0         1.0         0.0       1.0        0.0   \n",
              "2                   0.0         0.0         0.0       0.0        1.0   \n",
              "3                   0.0         1.0         1.0       0.0        0.0   \n",
              "4                   0.0         1.0         0.0       0.0        1.0   \n",
              "5                   0.0         1.0         0.0       1.0        0.0   \n",
              "\n",
              "             Title=Other  \n",
              "PassengerId               \n",
              "1                    0.0  \n",
              "2                    0.0  \n",
              "3                    0.0  \n",
              "4                    0.0  \n",
              "5                    0.0  "
            ],
            "text/html": [
              "\n",
              "  <div id=\"df-fceacfa0-f5a4-468d-a890-385d61ba2682\">\n",
              "    <div class=\"colab-df-container\">\n",
              "      <div>\n",
              "<style scoped>\n",
              "    .dataframe tbody tr th:only-of-type {\n",
              "        vertical-align: middle;\n",
              "    }\n",
              "\n",
              "    .dataframe tbody tr th {\n",
              "        vertical-align: top;\n",
              "    }\n",
              "\n",
              "    .dataframe thead th {\n",
              "        text-align: right;\n",
              "    }\n",
              "</style>\n",
              "<table border=\"1\" class=\"dataframe\">\n",
              "  <thead>\n",
              "    <tr style=\"text-align: right;\">\n",
              "      <th></th>\n",
              "      <th>Survived</th>\n",
              "      <th>Pclass</th>\n",
              "      <th>Sex</th>\n",
              "      <th>Age</th>\n",
              "      <th>Fare</th>\n",
              "      <th>Party_Size</th>\n",
              "      <th>Embarked=C</th>\n",
              "      <th>Embarked=Q</th>\n",
              "      <th>Embarked=S</th>\n",
              "      <th>Title=Miss</th>\n",
              "      <th>Title=Mr</th>\n",
              "      <th>Title=Mrs</th>\n",
              "      <th>Title=Other</th>\n",
              "    </tr>\n",
              "    <tr>\n",
              "      <th>PassengerId</th>\n",
              "      <th></th>\n",
              "      <th></th>\n",
              "      <th></th>\n",
              "      <th></th>\n",
              "      <th></th>\n",
              "      <th></th>\n",
              "      <th></th>\n",
              "      <th></th>\n",
              "      <th></th>\n",
              "      <th></th>\n",
              "      <th></th>\n",
              "      <th></th>\n",
              "      <th></th>\n",
              "    </tr>\n",
              "  </thead>\n",
              "  <tbody>\n",
              "    <tr>\n",
              "      <th>1</th>\n",
              "      <td>0</td>\n",
              "      <td>3</td>\n",
              "      <td>0</td>\n",
              "      <td>3</td>\n",
              "      <td>7.2500</td>\n",
              "      <td>2</td>\n",
              "      <td>0.0</td>\n",
              "      <td>0.0</td>\n",
              "      <td>1.0</td>\n",
              "      <td>0.0</td>\n",
              "      <td>1.0</td>\n",
              "      <td>0.0</td>\n",
              "      <td>0.0</td>\n",
              "    </tr>\n",
              "    <tr>\n",
              "      <th>2</th>\n",
              "      <td>1</td>\n",
              "      <td>1</td>\n",
              "      <td>1</td>\n",
              "      <td>4</td>\n",
              "      <td>71.2833</td>\n",
              "      <td>2</td>\n",
              "      <td>1.0</td>\n",
              "      <td>0.0</td>\n",
              "      <td>0.0</td>\n",
              "      <td>0.0</td>\n",
              "      <td>0.0</td>\n",
              "      <td>1.0</td>\n",
              "      <td>0.0</td>\n",
              "    </tr>\n",
              "    <tr>\n",
              "      <th>3</th>\n",
              "      <td>1</td>\n",
              "      <td>3</td>\n",
              "      <td>1</td>\n",
              "      <td>4</td>\n",
              "      <td>7.9250</td>\n",
              "      <td>1</td>\n",
              "      <td>0.0</td>\n",
              "      <td>0.0</td>\n",
              "      <td>1.0</td>\n",
              "      <td>1.0</td>\n",
              "      <td>0.0</td>\n",
              "      <td>0.0</td>\n",
              "      <td>0.0</td>\n",
              "    </tr>\n",
              "    <tr>\n",
              "      <th>4</th>\n",
              "      <td>1</td>\n",
              "      <td>1</td>\n",
              "      <td>1</td>\n",
              "      <td>4</td>\n",
              "      <td>53.1000</td>\n",
              "      <td>2</td>\n",
              "      <td>0.0</td>\n",
              "      <td>0.0</td>\n",
              "      <td>1.0</td>\n",
              "      <td>0.0</td>\n",
              "      <td>0.0</td>\n",
              "      <td>1.0</td>\n",
              "      <td>0.0</td>\n",
              "    </tr>\n",
              "    <tr>\n",
              "      <th>5</th>\n",
              "      <td>0</td>\n",
              "      <td>3</td>\n",
              "      <td>0</td>\n",
              "      <td>4</td>\n",
              "      <td>8.0500</td>\n",
              "      <td>1</td>\n",
              "      <td>0.0</td>\n",
              "      <td>0.0</td>\n",
              "      <td>1.0</td>\n",
              "      <td>0.0</td>\n",
              "      <td>1.0</td>\n",
              "      <td>0.0</td>\n",
              "      <td>0.0</td>\n",
              "    </tr>\n",
              "  </tbody>\n",
              "</table>\n",
              "</div>\n",
              "      <button class=\"colab-df-convert\" onclick=\"convertToInteractive('df-fceacfa0-f5a4-468d-a890-385d61ba2682')\"\n",
              "              title=\"Convert this dataframe to an interactive table.\"\n",
              "              style=\"display:none;\">\n",
              "        \n",
              "  <svg xmlns=\"http://www.w3.org/2000/svg\" height=\"24px\"viewBox=\"0 0 24 24\"\n",
              "       width=\"24px\">\n",
              "    <path d=\"M0 0h24v24H0V0z\" fill=\"none\"/>\n",
              "    <path d=\"M18.56 5.44l.94 2.06.94-2.06 2.06-.94-2.06-.94-.94-2.06-.94 2.06-2.06.94zm-11 1L8.5 8.5l.94-2.06 2.06-.94-2.06-.94L8.5 2.5l-.94 2.06-2.06.94zm10 10l.94 2.06.94-2.06 2.06-.94-2.06-.94-.94-2.06-.94 2.06-2.06.94z\"/><path d=\"M17.41 7.96l-1.37-1.37c-.4-.4-.92-.59-1.43-.59-.52 0-1.04.2-1.43.59L10.3 9.45l-7.72 7.72c-.78.78-.78 2.05 0 2.83L4 21.41c.39.39.9.59 1.41.59.51 0 1.02-.2 1.41-.59l7.78-7.78 2.81-2.81c.8-.78.8-2.07 0-2.86zM5.41 20L4 18.59l7.72-7.72 1.47 1.35L5.41 20z\"/>\n",
              "  </svg>\n",
              "      </button>\n",
              "      \n",
              "  <style>\n",
              "    .colab-df-container {\n",
              "      display:flex;\n",
              "      flex-wrap:wrap;\n",
              "      gap: 12px;\n",
              "    }\n",
              "\n",
              "    .colab-df-convert {\n",
              "      background-color: #E8F0FE;\n",
              "      border: none;\n",
              "      border-radius: 50%;\n",
              "      cursor: pointer;\n",
              "      display: none;\n",
              "      fill: #1967D2;\n",
              "      height: 32px;\n",
              "      padding: 0 0 0 0;\n",
              "      width: 32px;\n",
              "    }\n",
              "\n",
              "    .colab-df-convert:hover {\n",
              "      background-color: #E2EBFA;\n",
              "      box-shadow: 0px 1px 2px rgba(60, 64, 67, 0.3), 0px 1px 3px 1px rgba(60, 64, 67, 0.15);\n",
              "      fill: #174EA6;\n",
              "    }\n",
              "\n",
              "    [theme=dark] .colab-df-convert {\n",
              "      background-color: #3B4455;\n",
              "      fill: #D2E3FC;\n",
              "    }\n",
              "\n",
              "    [theme=dark] .colab-df-convert:hover {\n",
              "      background-color: #434B5C;\n",
              "      box-shadow: 0px 1px 3px 1px rgba(0, 0, 0, 0.15);\n",
              "      filter: drop-shadow(0px 1px 2px rgba(0, 0, 0, 0.3));\n",
              "      fill: #FFFFFF;\n",
              "    }\n",
              "  </style>\n",
              "\n",
              "      <script>\n",
              "        const buttonEl =\n",
              "          document.querySelector('#df-fceacfa0-f5a4-468d-a890-385d61ba2682 button.colab-df-convert');\n",
              "        buttonEl.style.display =\n",
              "          google.colab.kernel.accessAllowed ? 'block' : 'none';\n",
              "\n",
              "        async function convertToInteractive(key) {\n",
              "          const element = document.querySelector('#df-fceacfa0-f5a4-468d-a890-385d61ba2682');\n",
              "          const dataTable =\n",
              "            await google.colab.kernel.invokeFunction('convertToInteractive',\n",
              "                                                     [key], {});\n",
              "          if (!dataTable) return;\n",
              "\n",
              "          const docLinkHtml = 'Like what you see? Visit the ' +\n",
              "            '<a target=\"_blank\" href=https://colab.research.google.com/notebooks/data_table.ipynb>data table notebook</a>'\n",
              "            + ' to learn more about interactive tables.';\n",
              "          element.innerHTML = '';\n",
              "          dataTable['output_type'] = 'display_data';\n",
              "          await google.colab.output.renderOutput(dataTable, element);\n",
              "          const docLink = document.createElement('div');\n",
              "          docLink.innerHTML = docLinkHtml;\n",
              "          element.appendChild(docLink);\n",
              "        }\n",
              "      </script>\n",
              "    </div>\n",
              "  </div>\n",
              "  "
            ]
          },
          "metadata": {},
          "execution_count": 33
        }
      ]
    },
    {
      "cell_type": "code",
      "source": [
        "# our final table\n",
        "train.head()"
      ],
      "metadata": {
        "id": "Z050M7BIbwDe",
        "colab": {
          "base_uri": "https://localhost:8080/",
          "height": 237
        },
        "outputId": "f98ace5e-0177-4402-c536-0b6d2f5e200e"
      },
      "execution_count": 34,
      "outputs": [
        {
          "output_type": "execute_result",
          "data": {
            "text/plain": [
              "             Survived  Pclass  Sex  Age     Fare  Party_Size  Embarked=C  \\\n",
              "PassengerId                                                                \n",
              "1                   0       3    0    3   7.2500           2         0.0   \n",
              "2                   1       1    1    4  71.2833           2         1.0   \n",
              "3                   1       3    1    4   7.9250           1         0.0   \n",
              "4                   1       1    1    4  53.1000           2         0.0   \n",
              "5                   0       3    0    4   8.0500           1         0.0   \n",
              "\n",
              "             Embarked=Q  Embarked=S  Title=Miss  Title=Mr  Title=Mrs  \\\n",
              "PassengerId                                                            \n",
              "1                   0.0         1.0         0.0       1.0        0.0   \n",
              "2                   0.0         0.0         0.0       0.0        1.0   \n",
              "3                   0.0         1.0         1.0       0.0        0.0   \n",
              "4                   0.0         1.0         0.0       0.0        1.0   \n",
              "5                   0.0         1.0         0.0       1.0        0.0   \n",
              "\n",
              "             Title=Other  \n",
              "PassengerId               \n",
              "1                    0.0  \n",
              "2                    0.0  \n",
              "3                    0.0  \n",
              "4                    0.0  \n",
              "5                    0.0  "
            ],
            "text/html": [
              "\n",
              "  <div id=\"df-fa8352df-2a75-47ea-b9b2-1cd46cf22a8b\">\n",
              "    <div class=\"colab-df-container\">\n",
              "      <div>\n",
              "<style scoped>\n",
              "    .dataframe tbody tr th:only-of-type {\n",
              "        vertical-align: middle;\n",
              "    }\n",
              "\n",
              "    .dataframe tbody tr th {\n",
              "        vertical-align: top;\n",
              "    }\n",
              "\n",
              "    .dataframe thead th {\n",
              "        text-align: right;\n",
              "    }\n",
              "</style>\n",
              "<table border=\"1\" class=\"dataframe\">\n",
              "  <thead>\n",
              "    <tr style=\"text-align: right;\">\n",
              "      <th></th>\n",
              "      <th>Survived</th>\n",
              "      <th>Pclass</th>\n",
              "      <th>Sex</th>\n",
              "      <th>Age</th>\n",
              "      <th>Fare</th>\n",
              "      <th>Party_Size</th>\n",
              "      <th>Embarked=C</th>\n",
              "      <th>Embarked=Q</th>\n",
              "      <th>Embarked=S</th>\n",
              "      <th>Title=Miss</th>\n",
              "      <th>Title=Mr</th>\n",
              "      <th>Title=Mrs</th>\n",
              "      <th>Title=Other</th>\n",
              "    </tr>\n",
              "    <tr>\n",
              "      <th>PassengerId</th>\n",
              "      <th></th>\n",
              "      <th></th>\n",
              "      <th></th>\n",
              "      <th></th>\n",
              "      <th></th>\n",
              "      <th></th>\n",
              "      <th></th>\n",
              "      <th></th>\n",
              "      <th></th>\n",
              "      <th></th>\n",
              "      <th></th>\n",
              "      <th></th>\n",
              "      <th></th>\n",
              "    </tr>\n",
              "  </thead>\n",
              "  <tbody>\n",
              "    <tr>\n",
              "      <th>1</th>\n",
              "      <td>0</td>\n",
              "      <td>3</td>\n",
              "      <td>0</td>\n",
              "      <td>3</td>\n",
              "      <td>7.2500</td>\n",
              "      <td>2</td>\n",
              "      <td>0.0</td>\n",
              "      <td>0.0</td>\n",
              "      <td>1.0</td>\n",
              "      <td>0.0</td>\n",
              "      <td>1.0</td>\n",
              "      <td>0.0</td>\n",
              "      <td>0.0</td>\n",
              "    </tr>\n",
              "    <tr>\n",
              "      <th>2</th>\n",
              "      <td>1</td>\n",
              "      <td>1</td>\n",
              "      <td>1</td>\n",
              "      <td>4</td>\n",
              "      <td>71.2833</td>\n",
              "      <td>2</td>\n",
              "      <td>1.0</td>\n",
              "      <td>0.0</td>\n",
              "      <td>0.0</td>\n",
              "      <td>0.0</td>\n",
              "      <td>0.0</td>\n",
              "      <td>1.0</td>\n",
              "      <td>0.0</td>\n",
              "    </tr>\n",
              "    <tr>\n",
              "      <th>3</th>\n",
              "      <td>1</td>\n",
              "      <td>3</td>\n",
              "      <td>1</td>\n",
              "      <td>4</td>\n",
              "      <td>7.9250</td>\n",
              "      <td>1</td>\n",
              "      <td>0.0</td>\n",
              "      <td>0.0</td>\n",
              "      <td>1.0</td>\n",
              "      <td>1.0</td>\n",
              "      <td>0.0</td>\n",
              "      <td>0.0</td>\n",
              "      <td>0.0</td>\n",
              "    </tr>\n",
              "    <tr>\n",
              "      <th>4</th>\n",
              "      <td>1</td>\n",
              "      <td>1</td>\n",
              "      <td>1</td>\n",
              "      <td>4</td>\n",
              "      <td>53.1000</td>\n",
              "      <td>2</td>\n",
              "      <td>0.0</td>\n",
              "      <td>0.0</td>\n",
              "      <td>1.0</td>\n",
              "      <td>0.0</td>\n",
              "      <td>0.0</td>\n",
              "      <td>1.0</td>\n",
              "      <td>0.0</td>\n",
              "    </tr>\n",
              "    <tr>\n",
              "      <th>5</th>\n",
              "      <td>0</td>\n",
              "      <td>3</td>\n",
              "      <td>0</td>\n",
              "      <td>4</td>\n",
              "      <td>8.0500</td>\n",
              "      <td>1</td>\n",
              "      <td>0.0</td>\n",
              "      <td>0.0</td>\n",
              "      <td>1.0</td>\n",
              "      <td>0.0</td>\n",
              "      <td>1.0</td>\n",
              "      <td>0.0</td>\n",
              "      <td>0.0</td>\n",
              "    </tr>\n",
              "  </tbody>\n",
              "</table>\n",
              "</div>\n",
              "      <button class=\"colab-df-convert\" onclick=\"convertToInteractive('df-fa8352df-2a75-47ea-b9b2-1cd46cf22a8b')\"\n",
              "              title=\"Convert this dataframe to an interactive table.\"\n",
              "              style=\"display:none;\">\n",
              "        \n",
              "  <svg xmlns=\"http://www.w3.org/2000/svg\" height=\"24px\"viewBox=\"0 0 24 24\"\n",
              "       width=\"24px\">\n",
              "    <path d=\"M0 0h24v24H0V0z\" fill=\"none\"/>\n",
              "    <path d=\"M18.56 5.44l.94 2.06.94-2.06 2.06-.94-2.06-.94-.94-2.06-.94 2.06-2.06.94zm-11 1L8.5 8.5l.94-2.06 2.06-.94-2.06-.94L8.5 2.5l-.94 2.06-2.06.94zm10 10l.94 2.06.94-2.06 2.06-.94-2.06-.94-.94-2.06-.94 2.06-2.06.94z\"/><path d=\"M17.41 7.96l-1.37-1.37c-.4-.4-.92-.59-1.43-.59-.52 0-1.04.2-1.43.59L10.3 9.45l-7.72 7.72c-.78.78-.78 2.05 0 2.83L4 21.41c.39.39.9.59 1.41.59.51 0 1.02-.2 1.41-.59l7.78-7.78 2.81-2.81c.8-.78.8-2.07 0-2.86zM5.41 20L4 18.59l7.72-7.72 1.47 1.35L5.41 20z\"/>\n",
              "  </svg>\n",
              "      </button>\n",
              "      \n",
              "  <style>\n",
              "    .colab-df-container {\n",
              "      display:flex;\n",
              "      flex-wrap:wrap;\n",
              "      gap: 12px;\n",
              "    }\n",
              "\n",
              "    .colab-df-convert {\n",
              "      background-color: #E8F0FE;\n",
              "      border: none;\n",
              "      border-radius: 50%;\n",
              "      cursor: pointer;\n",
              "      display: none;\n",
              "      fill: #1967D2;\n",
              "      height: 32px;\n",
              "      padding: 0 0 0 0;\n",
              "      width: 32px;\n",
              "    }\n",
              "\n",
              "    .colab-df-convert:hover {\n",
              "      background-color: #E2EBFA;\n",
              "      box-shadow: 0px 1px 2px rgba(60, 64, 67, 0.3), 0px 1px 3px 1px rgba(60, 64, 67, 0.15);\n",
              "      fill: #174EA6;\n",
              "    }\n",
              "\n",
              "    [theme=dark] .colab-df-convert {\n",
              "      background-color: #3B4455;\n",
              "      fill: #D2E3FC;\n",
              "    }\n",
              "\n",
              "    [theme=dark] .colab-df-convert:hover {\n",
              "      background-color: #434B5C;\n",
              "      box-shadow: 0px 1px 3px 1px rgba(0, 0, 0, 0.15);\n",
              "      filter: drop-shadow(0px 1px 2px rgba(0, 0, 0, 0.3));\n",
              "      fill: #FFFFFF;\n",
              "    }\n",
              "  </style>\n",
              "\n",
              "      <script>\n",
              "        const buttonEl =\n",
              "          document.querySelector('#df-fa8352df-2a75-47ea-b9b2-1cd46cf22a8b button.colab-df-convert');\n",
              "        buttonEl.style.display =\n",
              "          google.colab.kernel.accessAllowed ? 'block' : 'none';\n",
              "\n",
              "        async function convertToInteractive(key) {\n",
              "          const element = document.querySelector('#df-fa8352df-2a75-47ea-b9b2-1cd46cf22a8b');\n",
              "          const dataTable =\n",
              "            await google.colab.kernel.invokeFunction('convertToInteractive',\n",
              "                                                     [key], {});\n",
              "          if (!dataTable) return;\n",
              "\n",
              "          const docLinkHtml = 'Like what you see? Visit the ' +\n",
              "            '<a target=\"_blank\" href=https://colab.research.google.com/notebooks/data_table.ipynb>data table notebook</a>'\n",
              "            + ' to learn more about interactive tables.';\n",
              "          element.innerHTML = '';\n",
              "          dataTable['output_type'] = 'display_data';\n",
              "          await google.colab.output.renderOutput(dataTable, element);\n",
              "          const docLink = document.createElement('div');\n",
              "          docLink.innerHTML = docLinkHtml;\n",
              "          element.appendChild(docLink);\n",
              "        }\n",
              "      </script>\n",
              "    </div>\n",
              "  </div>\n",
              "  "
            ]
          },
          "metadata": {},
          "execution_count": 34
        }
      ]
    },
    {
      "cell_type": "markdown",
      "source": [
        "### Model Training\n",
        "___"
      ],
      "metadata": {
        "id": "b-UnmxEczIfr"
      }
    },
    {
      "cell_type": "code",
      "source": [
        "# Importing models + optimization and performance metrics\n",
        "from sklearn.ensemble import RandomForestClassifier\n",
        "from xgboost import XGBClassifier\n",
        "from sklearn.model_selection import GridSearchCV, cross_val_score"
      ],
      "metadata": {
        "id": "uwdlPyLzzNi-"
      },
      "execution_count": 35,
      "outputs": []
    },
    {
      "cell_type": "code",
      "source": [
        "X_train = train.drop(columns=['Survived'])\n",
        "Y_train = train['Survived']\n",
        "\n",
        "X_test = test.copy()"
      ],
      "metadata": {
        "id": "YDyoxGVUz0aB"
      },
      "execution_count": 36,
      "outputs": []
    },
    {
      "cell_type": "markdown",
      "source": [
        "#### Random Forest Regressor Optimization"
      ],
      "metadata": {
        "id": "T9CXvuLOiQUH"
      }
    },
    {
      "cell_type": "code",
      "source": [
        "# Before performing any optimization, lets just take a look at what our feature engineering turn out like.\n",
        "# To do this, we can use RandomForestClassifier's function to determine the feature importance.\n",
        "model = RandomForestClassifier(random_state=43)\n",
        "\n",
        "model.fit(X_train, Y_train)\n",
        "importances = pd.DataFrame({'feature':X_train.columns,'importance':np.round(model.feature_importances_,3)})\n",
        "importances = importances.sort_values('importance',ascending=False).set_index('feature')\n",
        "importances.plot.bar()\n",
        "plt.xticks(rotation=45)\n",
        "plt.ylabel('Imporatance Fraction', size=13);\n",
        "# plt.savefig('Imporatance', dpi=300)"
      ],
      "metadata": {
        "colab": {
          "base_uri": "https://localhost:8080/",
          "height": 541
        },
        "id": "ijSyXJEFxQzq",
        "outputId": "16a39a8e-f3a8-4989-fc9f-6bcb1934f6a0"
      },
      "execution_count": 42,
      "outputs": [
        {
          "output_type": "display_data",
          "data": {
            "text/plain": [
              "<Figure size 720x576 with 1 Axes>"
            ],
            "image/png": "[encoded data removed]"
          },
          "metadata": {
            "needs_background": "light"
          }
        }
      ]
    },
    {
      "cell_type": "code",
      "source": [
        "# Let's see how it would do it does prior to optimization. We can estimate it's performance using cross validation\n",
        "RF = RandomForestClassifier(random_state=43)\n",
        "scores = cross_val_score(RF, X_train, Y_train, cv=5)\n",
        "print('Scores: ', scores)\n",
        "print('Mean score: ', scores.mean())"
      ],
      "metadata": {
        "colab": {
          "base_uri": "https://localhost:8080/"
        },
        "id": "h5P3_kGCsNf4",
        "outputId": "2174f1ad-fb05-4dca-f579-786514cc77ce"
      },
      "execution_count": 43,
      "outputs": [
        {
          "output_type": "stream",
          "name": "stdout",
          "text": [
            "Scores:  [0.76536313 0.7752809  0.84269663 0.79213483 0.84269663]\n",
            "Mean score:  0.8036344234511331\n"
          ]
        }
      ]
    },
    {
      "cell_type": "code",
      "source": [
        "# Optimizing the model (Random Forest)\n",
        "RF = RandomForestClassifier(random_state=43)\n",
        "\n",
        "params_RF = {\n",
        "    'n_estimators' : [25, 50, 100, 200, 300],\n",
        "    'criterion' : ['gini'],\n",
        "    'max_depth' : [5, 10, 15, 20, 25],\n",
        "    'min_samples_split' : [0.5, 1.0, 5, 10, 15],\n",
        "    'min_samples_leaf' : [1, 2, 5]\n",
        "}\n",
        "\n",
        "best_RF = GridSearchCV(RF, params_RF, cv=5, verbose=1)"
      ],
      "metadata": {
        "id": "T5H2eMyV1Bz_"
      },
      "execution_count": null,
      "outputs": []
    },
    {
      "cell_type": "code",
      "source": [
        "best_RF.fit(X_train, Y_train)\n",
        "print(f'Best Score : {best_RF.best_score_}')\n",
        "print(f'Best parameters : {best_RF.best_params_}')"
      ],
      "metadata": {
        "colab": {
          "base_uri": "https://localhost:8080/"
        },
        "id": "CRKjrZh13uDZ",
        "outputId": "234ca2e2-ec1b-40cd-958a-613b38286503"
      },
      "execution_count": null,
      "outputs": [
        {
          "output_type": "stream",
          "name": "stdout",
          "text": [
            "Fitting 5 folds for each of 375 candidates, totalling 1875 fits\n",
            "Best Score : 0.8406503044378884\n",
            "Best parameters : {'criterion': 'gini', 'max_depth': 20, 'min_samples_leaf': 1, 'min_samples_split': 15, 'n_estimators': 25}\n"
          ]
        }
      ]
    },
    {
      "cell_type": "markdown",
      "source": [
        "This certainly beats our initial accuracy, lets use some metrics to determine its performance."
      ],
      "metadata": {
        "id": "v-Q_AL4yd4li"
      }
    },
    {
      "cell_type": "code",
      "source": [
        "from sklearn.metrics import confusion_matrix, precision_score, recall_score\n",
        "from sklearn.model_selection import cross_val_predict\n",
        "import seaborn as sns"
      ],
      "metadata": {
        "id": "4_Khc7Vzdy6X"
      },
      "execution_count": null,
      "outputs": []
    },
    {
      "cell_type": "code",
      "source": [
        "yhat = cross_val_predict(best_RF.best_estimator_, X_train, Y_train, cv=5)\n",
        "\n",
        "plt.figure(figsize=(10, 8))\n",
        "sns.heatmap(confusion_matrix(Y_train, yhat), annot=True, cmap='Reds', fmt='d')\n",
        "plt.title('Confusion Matrix', size=14)\n",
        "plt.xlabel('Predicted', size=12)\n",
        "plt.ylabel('Actual', size=12)\n",
        "labels = ['Not Survived', 'Survived']\n",
        "plt.yticks(ticks=[0.5, 1.5], labels=labels, rotation=0)\n",
        "plt.xticks(ticks=[0.5, 1.5], labels=labels)\n",
        "plt.savefig('Titanic_confusion_matrix.png', dpi=300);"
      ],
      "metadata": {
        "colab": {
          "base_uri": "https://localhost:8080/",
          "height": 517
        },
        "id": "gtIJ4QOrg1n4",
        "outputId": "793c760c-93e6-47b2-c90a-7492b9f68c11"
      },
      "execution_count": null,
      "outputs": [
        {
          "output_type": "display_data",
          "data": {
            "text/plain": [
              "<Figure size 720x576 with 2 Axes>"
            ],
            "image/png": "[encoded data removed]"
          },
          "metadata": {
            "needs_background": "light"
          }
        }
      ]
    },
    {
      "cell_type": "markdown",
      "source": [
        "From our confustion matrix, we can get a sense on what our model is missclassifying. The first row shows that 497 passenger were correctly classified as `not_survived`, our *True False*, while 52 passengers were incorrectly classified as `survived` were in fact they did not survived, this is our *False Positive*. On the second row we see that 90 passengers were incorrectly predicted as `not_survived` were in fact they had survived, this are our *False negative*. Lastly, 252 passengers were correctly classified as `survived`, this are our *True Positives*. From this confussion matrix alone we could calculate values like precision ($\\frac{TP}{TP + FP}$) and recall ($\\frac{TP}{P}$), which we do both in the next cell but know we can do this by hand."
      ],
      "metadata": {
        "id": "LVkY9g_7iY8O"
      }
    },
    {
      "cell_type": "code",
      "source": [
        "print(\"Precision:\", round(precision_score(Y_train, yhat), 3))\n",
        "print(\"Recall:\", round(recall_score(Y_train, yhat), 3))"
      ],
      "metadata": {
        "colab": {
          "base_uri": "https://localhost:8080/"
        },
        "id": "N-oT6F7Mioy6",
        "outputId": "f6a8b244-8d90-4da2-f58f-a2faf848a16d"
      },
      "execution_count": null,
      "outputs": [
        {
          "output_type": "stream",
          "name": "stdout",
          "text": [
            "Precision: 0.829\n",
            "Recall: 0.737\n"
          ]
        }
      ]
    },
    {
      "cell_type": "markdown",
      "source": [
        "#### XGB random Forest Optimization"
      ],
      "metadata": {
        "id": "YU8I55ZJiWMx"
      }
    },
    {
      "cell_type": "code",
      "source": [
        "xgb = XGBClassifier(objective='binary:logistic', eval_metric='error', random_state=1)\n",
        "scores = cross_val_score(xgb, X_train, Y_train, cv=5)\n",
        "print('Scores: ', scores)\n",
        "print('Mean score: ', scores.mean())"
      ],
      "metadata": {
        "colab": {
          "base_uri": "https://localhost:8080/"
        },
        "id": "QXcBFNQ5ekv9",
        "outputId": "f2894a2e-c26c-4147-cd39-ff6edf6c8f8e"
      },
      "execution_count": null,
      "outputs": [
        {
          "output_type": "stream",
          "name": "stdout",
          "text": [
            "Scores:  [0.80446927 0.82022472 0.85955056 0.82022472 0.83146067]\n",
            "Mean score:  0.827185989580064\n"
          ]
        }
      ]
    },
    {
      "cell_type": "code",
      "source": [
        "xgb = XGBClassifier(objective='binary:logistic', eval_metric='error', random_state=43)#, eta=1e-4\n",
        "\n",
        "params_xgb = {\n",
        "    # 'booster' : ['gbtree', 'dart'],\n",
        "    'n_estimators' : [50, 75, 100, 500],\n",
        "    # 'eval_metric' : ['error', 'aucpr'],\n",
        "    'eta' : [1e-1, 1e-2, 2e-1, 5e-1], # learning_rate\n",
        "    # 'gamma': [0, 5e-6, 1e-5, 5e-5],\n",
        "    'max_depth': [3, 10, 15, 20],\n",
        "    'min_child_weight' : [1, 5, 7, 10]\n",
        "\n",
        "}\n",
        "\n",
        "best_xgb = GridSearchCV(xgb, params_xgb, cv=5, verbose=1)"
      ],
      "metadata": {
        "id": "hfNd6AMZifgx"
      },
      "execution_count": null,
      "outputs": []
    },
    {
      "cell_type": "code",
      "source": [
        "best_xgb.fit(X_train, Y_train)\n",
        "\n",
        "print(f'Best Score achieved = {best_xgb.best_score_}')\n",
        "print(f'Best Parameters = {best_xgb.best_params_}')"
      ],
      "metadata": {
        "colab": {
          "base_uri": "https://localhost:8080/"
        },
        "id": "QSZj0Jm-ig3n",
        "outputId": "70a0a969-91cb-4722-f99f-639de889244a"
      },
      "execution_count": null,
      "outputs": [
        {
          "output_type": "stream",
          "name": "stdout",
          "text": [
            "Fitting 5 folds for each of 256 candidates, totalling 1280 fits\n",
            "Best Score achieved = 0.8485091959073504\n",
            "Best Parameters = {'eta': 0.1, 'max_depth': 3, 'min_child_weight': 7, 'n_estimators': 500}\n"
          ]
        }
      ]
    },
    {
      "cell_type": "markdown",
      "source": [
        "### Final submission model\n",
        "___"
      ],
      "metadata": {
        "id": "jk2Cf7oCxA5v"
      }
    },
    {
      "cell_type": "code",
      "source": [
        "#@title Random forest final\n",
        "best_params_RF = best_RF.best_params_\n",
        "\n",
        "RF = RandomForestClassifier(\n",
        "    random_state = 1,\n",
        "    n_estimators = best_params_RF['n_estimators'],\n",
        "    criterion = best_params_RF['criterion'],\n",
        "    max_depth = best_params_RF['max_depth'],\n",
        "    min_samples_split = best_params_RF['min_samples_split'],\n",
        "    min_samples_leaf = best_params_RF['min_samples_leaf']\n",
        "    )\n",
        "\n",
        "\n",
        "RF.fit(X_train, Y_train)\n",
        "y_pred = RF.predict(X_train)\n",
        "\n",
        "RF.score(X_train, Y_train) # 93.93, 0.8945, 0.8978, 0.899"
      ],
      "metadata": {
        "colab": {
          "base_uri": "https://localhost:8080/"
        },
        "cellView": "form",
        "id": "RCbW1ixuzr2e",
        "outputId": "086338f3-f192-46d2-f351-2629347a3358"
      },
      "execution_count": null,
      "outputs": [
        {
          "output_type": "execute_result",
          "data": {
            "text/plain": [
              "0.8821548821548821"
            ]
          },
          "metadata": {},
          "execution_count": 74
        }
      ]
    },
    {
      "cell_type": "code",
      "source": [
        "#@title XGB Random Forest Final\n",
        "best_params_xgb = best_xgb.best_params_\n",
        "\n",
        "xgb = XGBClassifier(objective='binary:logistic', eval_metric='error', random_state=43,\n",
        "                      n_estimators= best_params_xgb['n_estimators'],\n",
        "                      eta = best_params_xgb['eta'],\n",
        "                      max_depth = best_params_xgb['max_depth'],\n",
        "                      min_child_weight = best_params_xgb['min_child_weight'],\n",
        "                      )\n",
        "\n",
        "xgb.fit(X_train, Y_train)\n",
        "y_pred = xgb.predict(X_train)\n",
        "\n",
        "xgb.score(X_train, Y_train) #0.936026936026936"
      ],
      "metadata": {
        "colab": {
          "base_uri": "https://localhost:8080/"
        },
        "cellView": "form",
        "id": "G7Zeher0inuM",
        "outputId": "240f615a-2417-46bc-94b4-d49b1d7befe5"
      },
      "execution_count": null,
      "outputs": [
        {
          "output_type": "execute_result",
          "data": {
            "text/plain": [
              "0.8810325476992144"
            ]
          },
          "metadata": {},
          "execution_count": 75
        }
      ]
    },
    {
      "cell_type": "code",
      "source": [
        "#@title Submision file for xgb predictions\n",
        "xgb_pred = xgb.predict(X_test)\n",
        "X_test['Survived'] = xgb_pred\n",
        "submission = X_test[['Survived']]\n",
        "\n",
        "save_dir = '/content/drive/MyDrive/Kaggle/data/xgbprediction.csv'\n",
        "submission.to_csv(save_dir, index=True)"
      ],
      "metadata": {
        "cellView": "form",
        "id": "sd77-4SeCW3n"
      },
      "execution_count": null,
      "outputs": []
    },
    {
      "cell_type": "code",
      "source": [
        "#@title Submission for RF predictions\n",
        "RF_pred = RF.predict(X_test)\n",
        "X_test['Survived'] = RF_pred\n",
        "submission = X_test[['Survived']]\n",
        "\n",
        "save_dir = '/content/drive/MyDrive/Kaggle/data/RFprediction.csv'\n",
        "submission.to_csv(save_dir, index=True)"
      ],
      "metadata": {
        "cellView": "form",
        "id": "buGGF-VtjPot"
      },
      "execution_count": null,
      "outputs": []
    }
  ]
}